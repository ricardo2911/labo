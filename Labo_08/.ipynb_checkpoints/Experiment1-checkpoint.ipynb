{
 "cells": [
  {
   "cell_type": "code",
   "execution_count": 1,
   "id": "e4aafb5b",
   "metadata": {},
   "outputs": [
    {
     "name": "stdout",
     "output_type": "stream",
     "text": [
      "[4.39635131e-01 3.11031279e-01 6.62584161e-08 6.26867811e-08 4.86262541e-08]\n",
      "[1.20061665 0.76592543 0.34630379 0.21222007 0.13759651]\n"
     ]
    }
   ],
   "source": [
    "import numpy as np\n",
    "from numpy import genfromtxt\n",
    "\n",
    "# Load signal\n",
    "data = genfromtxt('ECG.csv', delimiter=',')\n",
    "\n",
    "# Perform SVD\n",
    "U1, S1, V1 = np.linalg.svd(data[:, 0:5], full_matrices=False)\n",
    "print(S1)\n",
    "\n",
    "# Perform SVD\n",
    "U2, S2, V2 = np.linalg.svd(data[:, 6:11], full_matrices=False)\n",
    "print(S2)\n"
   ]
  },
  {
   "cell_type": "code",
   "execution_count": null,
   "id": "7ac74ff8",
   "metadata": {},
   "outputs": [],
   "source": [
    "# Add here the code to compute the effective rank"
   ]
  }
 ],
 "metadata": {
  "kernelspec": {
   "display_name": "Python 3 (ipykernel)",
   "language": "python",
   "name": "python3"
  },
  "language_info": {
   "codemirror_mode": {
    "name": "ipython",
    "version": 3
   },
   "file_extension": ".py",
   "mimetype": "text/x-python",
   "name": "python",
   "nbconvert_exporter": "python",
   "pygments_lexer": "ipython3",
   "version": "3.9.5"
  }
 },
 "nbformat": 4,
 "nbformat_minor": 5
}
