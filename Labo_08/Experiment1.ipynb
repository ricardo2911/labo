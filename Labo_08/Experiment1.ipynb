{
 "cells": [
  {
   "cell_type": "markdown",
   "id": "dabba735",
   "metadata": {},
   "source": [
    "Names: Ricardo Leão Cardoso, Alexandrine Dif, Annabelle Ducret"
   ]
  },
  {
   "cell_type": "markdown",
   "id": "e99ec3b5",
   "metadata": {},
   "source": [
    "# Experiment 1"
   ]
  },
  {
   "cell_type": "code",
   "execution_count": 1,
   "id": "e4aafb5b",
   "metadata": {},
   "outputs": [
    {
     "name": "stdout",
     "output_type": "stream",
     "text": [
      "[4.79818570e-01 3.12183558e-01 6.64234170e-08 6.26873541e-08\n",
      " 4.87422030e-08 3.92846440e-08]\n",
      "[1.23279959 0.76958759 0.35679615 0.21497559 0.17087625 0.10968347]\n"
     ]
    }
   ],
   "source": [
    "import numpy as np\n",
    "from numpy import genfromtxt\n",
    "\n",
    "# Load signal\n",
    "data = genfromtxt('ECG.csv', delimiter=',')\n",
    "\n",
    "# Perform SVD\n",
    "U1, S1, V1 = np.linalg.svd(data[:, 0:6], full_matrices=False)\n",
    "print(S1)\n",
    "\n",
    "# Perform SVD\n",
    "U2, S2, V2 = np.linalg.svd(data[:, 6:12], full_matrices=False)\n",
    "print(S2)\n"
   ]
  },
  {
   "cell_type": "code",
   "execution_count": 2,
   "id": "7ac74ff8",
   "metadata": {},
   "outputs": [
    {
     "data": {
      "text/plain": [
       "array([0.70258406, 1.        , 1.        , 1.        , 1.        ,\n",
       "       1.        ])"
      ]
     },
     "execution_count": 2,
     "metadata": {},
     "output_type": "execute_result"
    }
   ],
   "source": [
    "# Add here the code to compute the effective rank\n",
    "np.cumsum(S1*S1)/np.sum(S1*S1)\n"
   ]
  },
  {
   "cell_type": "code",
   "execution_count": 3,
   "id": "82f538ce",
   "metadata": {},
   "outputs": [
    {
     "data": {
      "text/plain": [
       "array([0.65316754, 0.90770737, 0.96241903, 0.9822808 , 0.99482963,\n",
       "       1.        ])"
      ]
     },
     "execution_count": 3,
     "metadata": {},
     "output_type": "execute_result"
    }
   ],
   "source": [
    "# Add here the code to compute the effective rank\n",
    "np.cumsum(S2**2)/np.sum(S2**2)"
   ]
  },
  {
   "cell_type": "markdown",
   "id": "caf47153",
   "metadata": {},
   "source": [
    "a) Explain the difference between singular values of the six first columns, and of the last 6 columns.  \n",
    "\n",
    "The fist thing that one can note is the that the singular value of the S1 are smaller than those in S2. One of the reasons for this could be tha the leads in the first 6 columns are correlated bewteen each other since the combinations between the hand and legs might be redonnant, whereas the last 6 lead are closer to the heart. These collect more precise signal of the electrical field of the heart."
   ]
  },
  {
   "cell_type": "markdown",
   "id": "998d5ffc",
   "metadata": {},
   "source": [
    "b) Computate of the effective rank with a threshold of 0.98.\n",
    "\n",
    "From the variance calculation above, we can deduce that the S1 effective rank with a treshold of 0.98 would be 2 and for S2, it would be rank 4."
   ]
  }
 ],
 "metadata": {
  "kernelspec": {
   "display_name": "ABP",
   "language": "python",
   "name": "python3"
  },
  "language_info": {
   "codemirror_mode": {
    "name": "ipython",
    "version": 3
   },
   "file_extension": ".py",
   "mimetype": "text/x-python",
   "name": "python",
   "nbconvert_exporter": "python",
   "pygments_lexer": "ipython3",
   "version": "3.12.2"
  }
 },
 "nbformat": 4,
 "nbformat_minor": 5
}
