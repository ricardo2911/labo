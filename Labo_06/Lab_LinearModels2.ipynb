{
 "cells": [
  {
   "cell_type": "markdown",
   "id": "2ba6c2eb-ff5c-48fe-9a35-57a15c3cf0f0",
   "metadata": {},
   "source": [
    "## EE512 – Applied Biomedical Signal Processing\n",
    "# Practical session – Linear Models II\n",
    "### Instructions\n",
    "* This notebook provides all the questions of the practical session and the space to answer them. We recommend working directly here and then exporting the document as your report.\n",
    "* Include any code used when addressing the questions, together with your answers.\n",
    "* Please submit your report as a single PDF file.\n",
    "* We recommend working in a group of 4–5 students; you must prepare one single report for the group (`name1_name2_name3_name4_name5_lab_LinearModelsII.pdf`), but every member needs to upload the same file individually."
   ]
  },
  {
   "cell_type": "code",
   "execution_count": 1,
   "id": "730bc8ec-59db-49bd-9fca-b58974d7e1da",
   "metadata": {},
   "outputs": [],
   "source": [
    "%matplotlib widget\n",
    "\n",
    "# Imports\n",
    "import os\n",
    "import numpy as np\n",
    "import matplotlib.pyplot as plt\n",
    "\n",
    "from scipy.signal import resample, welch, correlate\n",
    "from statsmodels.regression.linear_model import yule_walker\n",
    "from statsmodels.tsa.ar_model import AutoReg\n",
    "\n",
    "# File paths\n",
    "fhr1 = os.path.join(os.getcwd(), 'data', 'heart_1.dat')\n",
    "fhr2 = os.path.join(os.getcwd(), 'data', 'heart_2.dat')\n",
    "fem1 = os.path.join(os.getcwd(), 'data', 'emg1.dat')\n",
    "fem2 = os.path.join(os.getcwd(), 'data', 'emg2.dat')\n",
    "fppg = os.path.join(os.getcwd(), 'data', 'ppg.dat')\n",
    "feeg = os.path.join(os.getcwd(), 'data', 'eeg_stim.dat')"
   ]
  },
  {
   "cell_type": "markdown",
   "id": "6f333a11-f901-4420-bb5d-1dce969a385d",
   "metadata": {},
   "source": [
    "### Experiment 1: parametric spectral estimation of cardiorespiratory signals\n",
    "The file `/data/heart_1.dat` contains three physiological signals: RR-interval, arterial pressure and respiration, in this order (sampled at 4 Hz). The recordings were made in a patient at rest. In the spectral domain, this RR-interval signal is expected to show a peak around 0.08 Hz, corresponding to the *baroreflex* (regulation between arterial blood pressure and heart rate), and a peak at 0.225 Hz, corresponding to the *breathing rate* (heart rhythm modulation by respiration, the so-called *“sinus arrhythmia”*) – see `/data/readme_heart.txt` for more details.\n",
    "\n",
    "We start by importing the signals, subsampling to 1 Hz, and removing their averages:"
   ]
  },
  {
   "cell_type": "code",
   "execution_count": 2,
   "id": "f3b29d05-1716-4b15-ad07-f59e4e8ee07b",
   "metadata": {},
   "outputs": [],
   "source": [
    "with open(fhr1, 'r') as f:\n",
    "    txt = f.readlines()\n",
    "    txt = [s[:-1].split() for s in txt]\n",
    "    \n",
    "    rr1 = np.array([float(s[0]) for s in txt])\n",
    "    bp1 = np.array([float(s[1]) for s in txt])\n",
    "    rs1 = np.array([float(s[2]) for s in txt])\n",
    "\n",
    "df = 4\n",
    "rr1 = resample(rr1, int(len(rr1)/df))\n",
    "bp1 = resample(bp1, int(len(bp1)/df))\n",
    "rs1 = resample(rs1, int(len(rs1)/df))\n",
    "\n",
    "for y in [rr1, bp1, rs1]:\n",
    "    y -= np.mean(y)"
   ]
  },
  {
   "cell_type": "markdown",
   "id": "88d6bc61-2721-41ae-b675-8cb298ac008a",
   "metadata": {},
   "source": [
    "AR modeling provides tools for extracting various useful estimates from a signal, in a so-called *parametric* way, because the estimates are based on the model parameters, rather than on the raw signal itself. The function defined below implements the estimation of the signal spectral density based on its AR parameters."
   ]
  },
  {
   "cell_type": "code",
   "execution_count": 3,
   "id": "83de8672-4268-48b3-9fb8-3b6e7576f72e",
   "metadata": {},
   "outputs": [],
   "source": [
    "def ar_psd(arg1, arg2, arg3, n=1000):\n",
    "    \"\"\"\n",
    "    Parametric spectral density estimation based on AR modeling\n",
    "    \n",
    "    Inputs:\n",
    "        arg1: ?\n",
    "        arg2: ?\n",
    "        arg3: ?\n",
    "        n: defines the spectral sampling\n",
    "    \n",
    "    Outputs:\n",
    "        arg4: ?\n",
    "        arg5: ?\n",
    "    \"\"\"\n",
    "    \n",
    "    arg5 = np.arange(n) * arg3/2/n\n",
    "    aar, sg = yule_walker(arg1, order=arg2, method=\"mle\")\n",
    "    \n",
    "    a = complex(1)\n",
    "    for k in range(1,arg2+1):\n",
    "        a += -aar[k-1] * np.exp(-2*np.pi*k*1j*arg5/arg3)\n",
    "    \n",
    "    arg4 = sg**2 / (arg3 * np.abs(a)**2)\n",
    "    \n",
    "    return arg4, arg5"
   ]
  },
  {
   "cell_type": "markdown",
   "id": "59a53f4d-a1b9-4969-adbd-ff3aea6921cf",
   "metadata": {},
   "source": [
    "**Question 1.1.** The implementation above has an incomplete docstring (help text), and the input and output arguments have generic names (`arg1-5`). Copy the function to the answer space below, complete the help, and replace the argument names by more intuitive choices, based on what you've learned in the theory."
   ]
  },
  {
   "cell_type": "markdown",
   "id": "a25bc676-cc7f-4de4-ab15-166acd65a80f",
   "metadata": {},
   "source": [
    "**Answer 1.1.** `Write your answer here`"
   ]
  },
  {
   "cell_type": "markdown",
   "id": "bfa2b6d3-5981-4163-bf42-3a4580bd3185",
   "metadata": {},
   "source": [
    "#### We now use this tool to obtain the spectral density of the three signals. Below, we explore the results obtained with different AR model orders: 5, 15, 40."
   ]
  },
  {
   "cell_type": "code",
   "execution_count": null,
   "id": "1b3b9c29-dac9-4a92-b5f1-8f8e00e59c4f",
   "metadata": {},
   "outputs": [],
   "source": [
    "y = [rr1, bp1, rs1]\n",
    "ttl = ['RR-interval', 'Arterial pressure', 'Respiration']\n",
    "\n",
    "for p in (5, 15, 40):\n",
    "    \n",
    "    plt.figure(constrained_layout=True)\n",
    "    \n",
    "    for k in range(3):\n",
    "        \n",
    "        py, f = ar_psd(y[k], p, 1.0)\n",
    "        \n",
    "        plt.subplot(3,1,k+1)\n",
    "        plt.plot(f, py)\n",
    "        plt.xlabel('Frequency (Hz)')\n",
    "        plt.ylabel('Magnitude')\n",
    "        plt.title(ttl[k])"
   ]
  },
  {
   "cell_type": "markdown",
   "id": "d029b217-7924-4ce4-820a-0338a7fa65a9",
   "metadata": {},
   "source": [
    "**Question 1.2.** How does the order affect the spectra? Given the physiological description of the expected peaks for the RR-interval, what is the most suitable order choice?"
   ]
  },
  {
   "cell_type": "markdown",
   "id": "01585a1d-07a0-4a92-b98a-d0aef8aa83bf",
   "metadata": {},
   "source": [
    "**Answer 1.2.** `Write your answer here`"
   ]
  },
  {
   "cell_type": "markdown",
   "id": "35711281-a94a-4bfb-8b70-6ece92523d24",
   "metadata": {},
   "source": [
    "We can now perform a *non-parametric* spectral estimation of the same signals, using for instance Welch’s method:"
   ]
  },
  {
   "cell_type": "code",
   "execution_count": null,
   "id": "83cd9cd7-fa00-42e8-9147-b645333705fd",
   "metadata": {},
   "outputs": [],
   "source": [
    "y = [rr1, bp1, rs1]\n",
    "ttl = ['RR-interval', 'Arterial pressure', 'Respiration']\n",
    "\n",
    "plt.figure(constrained_layout=True)\n",
    "\n",
    "for k in range(3):\n",
    "    \n",
    "    f, py = welch(y[k], fs=1.0, nperseg=100, scaling='density', nfft=1000)\n",
    "    \n",
    "    plt.subplot(3,1,k+1)\n",
    "    plt.plot(f, py)\n",
    "    plt.xlabel('Frequency (Hz)')\n",
    "    plt.ylabel('Magnitude')\n",
    "    plt.title(ttl[k])"
   ]
  },
  {
   "cell_type": "markdown",
   "id": "69868a0b-8ad9-4ad5-a45c-0d80a3ac8fa8",
   "metadata": {},
   "source": [
    "**Question 1.3.** Explain how Welch's method works (it may be helpful to consult the help of `welch`), and the fundamental differences between this approach and the AR parametric method."
   ]
  },
  {
   "cell_type": "markdown",
   "id": "b4a46838-e0ed-4c9f-aa40-edd65226d44f",
   "metadata": {},
   "source": [
    "**Answer 1.3.** `Write your answer here`"
   ]
  },
  {
   "cell_type": "markdown",
   "id": "54794475-6623-4860-bb28-6f8d7913356b",
   "metadata": {},
   "source": [
    "**Question 1.4.** In our particular problem, how do the spectra obtained with Welch's method compare with those of the parametric approach (order 15)? Given the previous RR-interval description, which approach performs most reliably?"
   ]
  },
  {
   "cell_type": "markdown",
   "id": "144979bc-54ac-47d5-bb2f-f0d4a762967c",
   "metadata": {},
   "source": [
    "**Answer 1.4.** `Write your answer here`"
   ]
  },
  {
   "cell_type": "markdown",
   "id": "d3405db5-9bbb-421f-b1b8-0fb38bedd36c",
   "metadata": {},
   "source": [
    "We now consider the signals in `/data/heart_2.dat`, which are recordings from the same individual after alcohol consumption."
   ]
  },
  {
   "cell_type": "code",
   "execution_count": 6,
   "id": "c72f635a-cdd4-4a98-9f85-9a689883e646",
   "metadata": {},
   "outputs": [],
   "source": [
    "with open(fhr2, 'r') as f:\n",
    "    txt = f.readlines()\n",
    "    txt = [s[:-1].split() for s in txt]\n",
    "    \n",
    "    rr2 = np.array([float(s[0]) for s in txt])\n",
    "    bp2 = np.array([float(s[1]) for s in txt])\n",
    "    rs2 = np.array([float(s[2]) for s in txt])"
   ]
  },
  {
   "cell_type": "markdown",
   "id": "9513c807-625c-4ea6-8b9b-6a2320d2bbc5",
   "metadata": {},
   "source": [
    "**Question 1.5.** Repeat the processing steps done for `heart_1.dat` to obtain a parametric spectral estimation (order 15). Which of the physiological mechanisms described for the RR-interval was most disrupted by alcohol? And what other changes do you observe in the physiological signals?"
   ]
  },
  {
   "cell_type": "markdown",
   "id": "7e7caedc-9975-4199-bab5-2a36979b9a94",
   "metadata": {},
   "source": [
    "**Answer 1.5.** `Write your answer here`"
   ]
  },
  {
   "cell_type": "markdown",
   "id": "57df1f6f-2692-41a0-a834-227b25487fa3",
   "metadata": {},
   "source": [
    "### Experiment 2: estimating the effects of fatigue on muscle signals\n",
    "The files `/data/emg1.dat` and `/data/emg2.dat` contain three surface electromyography (sEMG) signals each (1024 Hz sampling frequency). These signals were recorded from the thigh muscle during a 10-min exercise on an ergocycle, respectively from an athlete (`emg1`) and from a moderately trained subject (`emg2`). In each file, the columns correspond to recordings from the *start*, *middle* and *end* of the exercise, respectively.\n",
    "\n",
    "We start by importing the signals:"
   ]
  },
  {
   "cell_type": "code",
   "execution_count": 7,
   "id": "50f80cfe-e77b-495b-a1b4-bcac27ecb30d",
   "metadata": {},
   "outputs": [],
   "source": [
    "with open(fem1, 'r') as f:\n",
    "    txt = f.readlines()\n",
    "    txt = [s[:-1].split() for s in txt]\n",
    "    \n",
    "    n = len(txt)\n",
    "    em1 = np.zeros((n,3))\n",
    "    for k in range(3):\n",
    "        em1[:,k] = [float(s[k]) for s in txt]\n",
    "\n",
    "with open(fem2, 'r') as f:\n",
    "    txt = f.readlines()\n",
    "    txt = [s[:-1].split() for s in txt]\n",
    "    \n",
    "    n = len(txt)\n",
    "    em2 = np.zeros((n,3))\n",
    "    for k in range(3):\n",
    "        em2[:,k] = [float(s[k]) for s in txt]\n",
    "\n",
    "fs = 1024.0 # Hz"
   ]
  },
  {
   "cell_type": "markdown",
   "id": "efb83f88-cdcf-446d-bc3b-1673d4406a02",
   "metadata": {},
   "source": [
    "We first plot the sEMG segments in the time domain. We can observe four bursts in each recording, which correspond to four pedal strokes. The goal of the experiment was to assess the effects of fatigue on the signal properties of the sEMG."
   ]
  },
  {
   "cell_type": "code",
   "execution_count": null,
   "id": "c79387de-fcd7-4566-9c11-219c89b4f9ba",
   "metadata": {},
   "outputs": [],
   "source": [
    "ttl1 = ['Athlete', 'Non-athlete']\n",
    "ttl2 = ['Start', 'Middle', 'End']\n",
    "t = np.arange(n) / fs\n",
    "\n",
    "plt.figure(constrained_layout=True)\n",
    "for k in range(2):\n",
    "    \n",
    "    y = [em1, em2][k]\n",
    "    \n",
    "    for l in range(3):\n",
    "        \n",
    "        plt.subplot(3,2,2*l+k+1)\n",
    "        plt.plot(t,y[:,l])\n",
    "        plt.xlim(t[0], t[-1])\n",
    "        plt.ylim(-0.10, 0.15)\n",
    "        plt.xlabel('Time (s)')\n",
    "        plt.title(ttl1[k] + ' - ' + ttl2[l])"
   ]
  },
  {
   "cell_type": "markdown",
   "id": "16339ba0-b75f-47fe-bd03-733e05814619",
   "metadata": {},
   "source": [
    "We'll now look at the spectral profile of the signals. Considering, for instance, the start sEMG recording of the athlete, we obtain the parametric power spectral density (PSD) for an AR model of order 30:"
   ]
  },
  {
   "cell_type": "code",
   "execution_count": null,
   "id": "7db2193d-6d64-4f58-b257-ccde2c257bbd",
   "metadata": {},
   "outputs": [],
   "source": [
    "p = 30\n",
    "pya, fa = ar_psd(em1[:,0], p, fs)\n",
    "\n",
    "plt.figure(constrained_layout=True)\n",
    "plt.plot(fa, pya, label='Full recording')\n",
    "plt.xlabel('Frequency (Hz)')\n",
    "plt.ylabel('Magnitude')\n",
    "plt.legend()"
   ]
  },
  {
   "cell_type": "markdown",
   "id": "9359984b-8115-4626-ba18-812631a3258e",
   "metadata": {},
   "source": [
    "**Question 2.1.** In principle, it would be more correct to segment each burst and analyze it separately, but it turns out that using the entire recording will yield a relatively similar spectral profile. Check that it is the case: copy the plotting code above to the space below and add (overlayed in the same panel) the PSD obtained from the first burst only, for the same signal. How do their profiles compare? Where does the difference in peak signal-to-noise come from?"
   ]
  },
  {
   "cell_type": "markdown",
   "id": "decfd1c1-7f20-4744-9ce9-84a1411026c4",
   "metadata": {},
   "source": [
    "**Answer 2.1.** `Write your answer here`"
   ]
  },
  {
   "cell_type": "markdown",
   "id": "0e6e6a4f-1beb-4897-bb46-5ca8a211dd4f",
   "metadata": {},
   "source": [
    "We now estimate and plot the PSD for every recorded segment of both individuals:"
   ]
  },
  {
   "cell_type": "code",
   "execution_count": null,
   "id": "36052430-6b21-44ad-adcc-088632c36876",
   "metadata": {},
   "outputs": [],
   "source": [
    "plt.figure(constrained_layout=True)\n",
    "for k in range(2):\n",
    "    \n",
    "    y = [em1, em2][k]\n",
    "    plt.subplot(2,1,k+1)\n",
    "    \n",
    "    for l in range(3):\n",
    "        \n",
    "        pya, fa = ar_psd(y[:,l], p, fs)\n",
    "        plt.plot(fa, pya, label=ttl2[l])\n",
    "        plt.xlabel('Frequency (Hz)')\n",
    "        plt.ylabel('Magnitude')\n",
    "    \n",
    "    plt.title(ttl1[k])\n",
    "    plt.legend()"
   ]
  },
  {
   "cell_type": "markdown",
   "id": "b68a6baf-00fa-4a85-8d6c-1963a75dd255",
   "metadata": {},
   "source": [
    "**Question 2.2.** To complement the above PSD's, estimate the mean frequency using `sum(fa * pya / sum(pya))`. What does this formula express?"
   ]
  },
  {
   "cell_type": "markdown",
   "id": "40d66a72-7566-4fb9-a05b-925ebc62d178",
   "metadata": {},
   "source": [
    "**Answer 2.2.** `Write your answer here`"
   ]
  },
  {
   "cell_type": "markdown",
   "id": "0425bc4f-ef75-451f-8e94-abf579e80d28",
   "metadata": {},
   "source": [
    "**Question 2.3.** Based on the PSD plots and the mean frequencies obtained above, what marks the difference between the athlete and the moderately trained subject?"
   ]
  },
  {
   "cell_type": "markdown",
   "id": "099a4152-e385-412e-938a-d600cc50fc18",
   "metadata": {},
   "source": [
    "**Answer 2.3.** `Write your answer here`"
   ]
  },
  {
   "cell_type": "markdown",
   "id": "ab20bb58-a9f6-4c67-9bc6-77a68c232bb0",
   "metadata": {},
   "source": [
    "### Experiment 3: assessment of PPG signal structure\n",
    "Photoplethysmography (PPG) is a simple, low-cost, non-invasive optical monitoring technique that can be used to detect volumetric changes in blood in the peripheral circulation, by measuring on the skin surface. It can be integrated in wearable devices (e.g. a watch) to monitor a person’s heart rate throughout daily life, and detect potential issues like atrial fibrillation. The file `/data/ppg.dat` contains a PPG recording from a normal cardiac rhythm, and another from a subject in atrial fibrillation (both sampled at 21.3 Hz).\n",
    "\n",
    "We start by importing and plotting the two signals:"
   ]
  },
  {
   "cell_type": "code",
   "execution_count": null,
   "id": "445ccbf6-c91f-4b85-b8ce-7ca10a4e3c94",
   "metadata": {},
   "outputs": [],
   "source": [
    "with open(fppg, 'r') as f:\n",
    "    txt = f.readlines()\n",
    "    txt = [s[:-1].split() for s in txt]\n",
    "    \n",
    "    ppg1 = np.array([float(s[0]) for s in txt])\n",
    "    ppg2 = np.array([float(s[1]) for s in txt])\n",
    "\n",
    "for y in [ppg1, ppg2]:\n",
    "    y -= np.mean(y)\n",
    "\n",
    "fs = 21.3 # Hz\n",
    "\n",
    "plt.figure(constrained_layout=True)\n",
    "ttl = ['Normal', 'Atrial fibrillation']\n",
    "\n",
    "n = len(ppg1)\n",
    "t = np.arange(n) / fs\n",
    "\n",
    "for k in range(2):\n",
    "    \n",
    "    y = [ppg1, ppg2][k]\n",
    "    \n",
    "    plt.subplot(2,1,k+1)\n",
    "    plt.plot(t, y)\n",
    "    plt.xlim(t[0], t[-1])\n",
    "    plt.xlabel('Time (s)')\n",
    "    plt.title(ttl[k])"
   ]
  },
  {
   "cell_type": "markdown",
   "id": "7d99af3e-a7b6-487f-96ac-656a99ffba3a",
   "metadata": {},
   "source": [
    "Each observed oscillation on the PPG typically corresponds to one pulse, generated by one cardiac cycle. By inspecting the plot above, we can already appreciate how one signal is visibly less regular than the other. AR modeling allows us to quantify the underlying differences with several complementary metrics.\n",
    "\n",
    "We define again the function `ar_order` introduced in the previous practical session:"
   ]
  },
  {
   "cell_type": "code",
   "execution_count": 12,
   "id": "a122178e-8f1e-42cb-b1dd-f032bec5d58e",
   "metadata": {},
   "outputs": [],
   "source": [
    "def ar_order(x, omax, Aff=0):\n",
    "    \"\"\"\n",
    "    AR order estimation\n",
    "    x: signal\n",
    "    omax: maximum possible order\n",
    "    Aff: 0 no graphic display; 1 display\n",
    "    \n",
    "    Returns:\n",
    "    omdl: order estimated with MDL\n",
    "    \"\"\"\n",
    "    \n",
    "    nx = len(x)\n",
    "    s = np.zeros((omax,))\n",
    "    c = np.zeros((omax,))\n",
    "\n",
    "    for k in range(omax):\n",
    "        \n",
    "        n = k+1\n",
    "        \n",
    "        ar_model = AutoReg(x, n, trend='n')\n",
    "        ar_model_fit = ar_model.fit()\n",
    "        sg2 = ar_model_fit.sigma2\n",
    "        \n",
    "        s[k] = sg2\n",
    "        c[k] = nx * np.log(sg2) + (n+1) * np.log(nx)\n",
    "\n",
    "    if Aff == 1:\n",
    "        plt.figure()\n",
    "        plt.plot(range(1, omax+1), c, 'o-')\n",
    "        plt.title('Criterion')\n",
    "        plt.show()\n",
    "        \n",
    "    return np.argmin(c)+1, s, c"
   ]
  },
  {
   "cell_type": "markdown",
   "id": "3fea7b37-c209-467d-8576-19ec4180e3a4",
   "metadata": {},
   "source": [
    "**Question 3.1.** Estimate the optimal AR model order for each signal, using the function `ar_order` above (you can set a maximal order of 40 for the search)."
   ]
  },
  {
   "cell_type": "markdown",
   "id": "b0a54f39-0959-4903-b0de-32fd9de176ea",
   "metadata": {},
   "source": [
    "**Answer 3.1.** `Write your answer here`"
   ]
  },
  {
   "cell_type": "code",
   "execution_count": null,
   "id": "f385b8d5",
   "metadata": {},
   "outputs": [],
   "source": [
    "ar_order(ppg1, 40, Aff = 1)"
   ]
  },
  {
   "cell_type": "markdown",
   "id": "f8af804a",
   "metadata": {},
   "source": [
    "We see that for the normal cardiac rhythm, the optimal order is 20. "
   ]
  },
  {
   "cell_type": "code",
   "execution_count": null,
   "id": "b642f411",
   "metadata": {},
   "outputs": [],
   "source": [
    "ar_order(ppg2, 40, Aff = 1)"
   ]
  },
  {
   "cell_type": "markdown",
   "id": "1411c081",
   "metadata": {},
   "source": [
    "For the atrial fibrilation recording, the optimal order is 5. "
   ]
  },
  {
   "cell_type": "markdown",
   "id": "ec6e9538-5842-437f-b548-59d350e30a8b",
   "metadata": {},
   "source": [
    "**Question 3.2.** Estimate the ratio between the excitation variance and the signal variance, for each signal (as in previous exercises, you can rely on the `yule_walker` function with `method='mle'`)"
   ]
  },
  {
   "cell_type": "markdown",
   "id": "70b887e7-667a-4620-a992-94a5dacfa6e6",
   "metadata": {},
   "source": [
    "**Answer 3.2.** `Write your answer here`"
   ]
  },
  {
   "cell_type": "markdown",
   "id": "7d45a10f",
   "metadata": {},
   "source": [
    "For normal heart rate recording : "
   ]
  },
  {
   "cell_type": "code",
   "execution_count": null,
   "id": "7d4304e4",
   "metadata": {},
   "outputs": [],
   "source": [
    "rho, excitation_variance = yule_walker(ppg1, order = 20, method = 'mle')\n",
    "\n",
    "signal_variance = np.var(ppg1)\n",
    "\n",
    "ratio = excitation_variance/signal_variance\n",
    "\n",
    "ratio"
   ]
  },
  {
   "cell_type": "markdown",
   "id": "811b0cbb",
   "metadata": {},
   "source": [
    "For atrial fibrilation recording : "
   ]
  },
  {
   "cell_type": "code",
   "execution_count": null,
   "id": "7dd422f6",
   "metadata": {},
   "outputs": [],
   "source": [
    "rho, excitation_variance = yule_walker(ppg2, order = 5, method = 'mle')\n",
    "\n",
    "signal_variance = np.var(ppg1)\n",
    "\n",
    "ratio = excitation_variance/signal_variance\n",
    "\n",
    "ratio"
   ]
  },
  {
   "cell_type": "markdown",
   "id": "7f8a475f-4095-4c38-8427-169a26da42c4",
   "metadata": {},
   "source": [
    "**Question 3.3.** Estimate and plot the PSD of each signal, using the `ar_psd` function for the estimates (for consistency, use the same order of 20 for both signals)"
   ]
  },
  {
   "cell_type": "markdown",
   "id": "26213e90-a918-470f-92b4-1a78c426dd8d",
   "metadata": {},
   "source": [
    "**Answer 3.3.** `Write your answer here`"
   ]
  },
  {
   "cell_type": "markdown",
   "id": "0fb4c64f-b1ec-464a-8aa5-6dfdf0079f5c",
   "metadata": {},
   "source": [
    "**Question 3.4.** Estimate the entropy of the PSD of each signal, using:\n",
    "\n",
    "*p = py / sum(py)*\n",
    "\n",
    "*entropy = sum(-p * log(p))*\n",
    "\n",
    "where py is the vector of PSD amplitudes."
   ]
  },
  {
   "cell_type": "markdown",
   "id": "7d2fbf04-68b7-48f6-baa6-79afb9382cfe",
   "metadata": {},
   "source": [
    "**Answer 3.4.** `Write your answer here`"
   ]
  },
  {
   "cell_type": "markdown",
   "id": "e9d67de9-ad57-4962-8ebc-2a3fd39f8ba9",
   "metadata": {},
   "source": [
    "**Question 3.5.** What do these measures (model order, variance ratio, PSD, entropy) tell us about the two signals? Interpret what you have obtained in terms of signal structure/organization."
   ]
  },
  {
   "cell_type": "markdown",
   "id": "3cc7b753-cb5c-41f3-b175-9642ddce135d",
   "metadata": {},
   "source": [
    "**Answer 3.5.** `Write your answer here`"
   ]
  },
  {
   "cell_type": "markdown",
   "id": "6cc9538e-780a-4b29-a66f-0edbba4e3cd0",
   "metadata": {},
   "source": [
    "### Experiment 4: Pisarenko harmonic estimation of brain signals\n",
    "The file `/data/eeg_stim.dat` contains three recordings of scalp electroencephalography (EEG; left frontal electrode, 4-s duration, 512 Hz sampling frequency) from a Parkinson's patient. The patient was also implanted with a deep brain stimulation (DBS) electrode. The first recording corresponds to a baseline (rest) state, the second was obtained during 1-Hz stimulation, and the third during 100-Hz stimulation.\n",
    "\n",
    "We start by importing and plotting the three signals:"
   ]
  },
  {
   "cell_type": "code",
   "execution_count": null,
   "id": "66d12c90-3d0c-4eee-ba87-369aac3d9cca",
   "metadata": {},
   "outputs": [],
   "source": [
    "with open(feeg, 'r') as f:\n",
    "    txt = f.readlines()\n",
    "    txt = [s[:-1].split() for s in txt]\n",
    "    \n",
    "    n = len(txt)\n",
    "    eeg = np.zeros((n,3))\n",
    "    for k in range(3):\n",
    "        eeg[:,k] = [float(s[k]) for s in txt]\n",
    "\n",
    "fs = 512.0 # Hz\n",
    "\n",
    "plt.figure(constrained_layout=True)\n",
    "ttl = ['Baseline (no stimulation)', '1-Hz stimulation', '100-Hz stimulation']\n",
    "\n",
    "t = np.arange(n) / fs\n",
    "\n",
    "for k in range(3):\n",
    "    plt.subplot(3,1,k+1)\n",
    "    plt.plot(t, eeg[:,k])\n",
    "    plt.xlim(t[0], t[-1])\n",
    "    plt.xlabel('Time (s)')\n",
    "    plt.title(ttl[k])"
   ]
  },
  {
   "cell_type": "markdown",
   "id": "520f4872-6cbe-4c75-af17-28d3bc87ac27",
   "metadata": {},
   "source": [
    "**Question 4.1.** Visually, does any of the stimulation strategies appear to have an effect on the EEG? Which one(s)?"
   ]
  },
  {
   "cell_type": "markdown",
   "id": "8bb2fb38-ec81-4240-8e93-645a1fe52f4a",
   "metadata": {},
   "source": [
    "**Answer 4.1.** `Write your answer here`"
   ]
  },
  {
   "cell_type": "markdown",
   "id": "63d1306b-5281-4d9a-9a63-19cdd416cefe",
   "metadata": {},
   "source": [
    "As in previous examples, we can apply modeling techniques to quantify the physiological effects under study. Because the DBS is applied in a periodic regime with a specific frequency, it is reasonable to expect a strong sinusoidal presence on the EEG recordings, for any cases where the stimulation does produce a measurable effect. This motivates applying the Pisarenko harmonic retrieval approach, which is implemented below:"
   ]
  },
  {
   "cell_type": "code",
   "execution_count": 14,
   "id": "25eece42-8941-418c-a097-48046cc61a25",
   "metadata": {},
   "outputs": [],
   "source": [
    "def pisarenko(x, p, fs, Aff=0):\n",
    "    \"\"\"\n",
    "    Pisarenko method for harmonic retrieval\n",
    "    \n",
    "    x: signal\n",
    "    p: number of sinusoids\n",
    "    fs: sampling frequency\n",
    "    Aff: 0 no graphic display; 1 display\n",
    "    \n",
    "    f: vector of sinusoid frequencies\n",
    "    pp: vector of sinusoid amplitudes\n",
    "    sg2: noise variance\n",
    "    \n",
    "    \"\"\"\n",
    "    \n",
    "    n = len(x)\n",
    "    \n",
    "    rx = correlate(x, x, mode='full', method='auto') / n\n",
    "    \n",
    "    rxx = np.zeros((2*p+1,2*p+1))\n",
    "    for k1 in range(2*p+1):\n",
    "        for k2 in range(2*p+1):\n",
    "            rxx[k1,k2] = rx[n-1 + abs(k1 - k2)]\n",
    "    \n",
    "    u, v = np.linalg.eig(rxx)\n",
    "    \n",
    "    sg2 = np.min(u)\n",
    "    vm = v[:,np.argmin(u)]  # get eigenvector from smallest eigenvalue\n",
    "    \n",
    "    r = np.roots(vm)  # find roots of the polynomial\n",
    "    f = np.angle(r) / (2*np.pi)  # get angle and convert to Hz/sample\n",
    "    f = f[f > 0]\n",
    "    \n",
    "    # Amplitude estimation\n",
    "    aa = np.zeros((p, len(f)))\n",
    "    for k in range(p):\n",
    "        aa[k,:] = np.cos(2*np.pi * (k+1) * f)\n",
    "    \n",
    "    r = rx[n:n+p]\n",
    "    \n",
    "    pp = np.linalg.lstsq(aa, r, rcond=None)[0]\n",
    "    f *= fs\n",
    "    \n",
    "    if Aff:\n",
    "        \n",
    "        plt.figure(constrained_layout=True)\n",
    "        \n",
    "        plt.subplot(2,1,1)\n",
    "        plt.plot(np.arange(1,n+1) / fs, x)\n",
    "        plt.xlabel('Time (s)')\n",
    "        plt.title('Signal')\n",
    "        \n",
    "        plt.subplot(2,1,2)\n",
    "        plt.plot([0, fs/2], [sg2, sg2], linewidth=2)\n",
    "        for k in range(p):\n",
    "            plt.plot([f[k], f[k]], [sg2, sg2+pp[k]], linewidth=2)\n",
    "        plt.axis([0, fs/2, 0, 1.2 * (np.max(pp) + sg2)])\n",
    "        plt.xlabel('Frequency (Hz)')\n",
    "        plt.title('Pisarenko spectrum')\n",
    "    \n",
    "    return f, pp, sg2"
   ]
  },
  {
   "cell_type": "markdown",
   "id": "9a8b5019-0fea-4095-889d-276022289068",
   "metadata": {},
   "source": [
    "**Question 4.2.** Using the above function, apply the Pisarenko method with 5 sinusoids to each of the three recordings, and report the estimated parameters (frequencies, amplitudes, excitation variance)."
   ]
  },
  {
   "cell_type": "markdown",
   "id": "1a3391ee-ed10-4024-a9f6-f2a9b4f5df5b",
   "metadata": {},
   "source": [
    "**Answer 4.2.** `Write your answer here`"
   ]
  },
  {
   "cell_type": "markdown",
   "id": "3b03bff1-0ffe-46d4-a68b-7e6f8ee7d91d",
   "metadata": {},
   "source": [
    "**Question 4.3.** Interpret the estimation results -- which stimulation frequency appears to effectively influence brain activity?"
   ]
  },
  {
   "cell_type": "markdown",
   "id": "175a9d58-6436-4640-84df-d9e09afea7fa",
   "metadata": {},
   "source": [
    "**Answer 4.3.** `Write your answer here`"
   ]
  },
  {
   "cell_type": "markdown",
   "id": "47901216-72ae-4ad8-afa7-a87d7bc6cd74",
   "metadata": {},
   "source": [
    "### Have a good session, and don't hesitate to ask questions!"
   ]
  }
 ],
 "metadata": {
  "kernelspec": {
   "display_name": "base",
   "language": "python",
   "name": "python3"
  },
  "language_info": {
   "codemirror_mode": {
    "name": "ipython",
    "version": 3
   },
   "file_extension": ".py",
   "mimetype": "text/x-python",
   "name": "python",
   "nbconvert_exporter": "python",
   "pygments_lexer": "ipython3",
   "version": "3.9.18"
  }
 },
 "nbformat": 4,
 "nbformat_minor": 5
}
